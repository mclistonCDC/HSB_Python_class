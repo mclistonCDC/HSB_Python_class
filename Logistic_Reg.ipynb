{
 "cells": [
  {
   "cell_type": "code",
   "execution_count": 1,
   "id": "fc3281da-0168-48aa-b882-278382a53ad1",
   "metadata": {},
   "outputs": [],
   "source": [
    "import numpy as np;\n",
    "import matplotlib.pyplot as plt\n",
    "from ipywidgets import interact"
   ]
  },
  {
   "cell_type": "code",
   "execution_count": 2,
   "id": "51414373-9ea1-42d5-9f01-022c2eac507b",
   "metadata": {},
   "outputs": [
    {
     "data": {
      "text/plain": [
       "<Figure size 640x480 with 0 Axes>"
      ]
     },
     "metadata": {},
     "output_type": "display_data"
    }
   ],
   "source": [
    "def logistic_sigmoid(xx, vv, b):\n",
    "    return 1 / (1 + np.exp(-(np.dot(vv, xx) + b)))\n",
    "\n",
    "plt.clf()\n",
    "grid_size = 0.01\n",
    "x_grid = np.arange(-5, 5, grid_size)\n",
    "\n",
    "def plot_logistic_sigmoid(vv1, bb1, vv2, bb2):\n",
    "    plt.plot(x_grid, logistic_sigmoid(x_grid, vv=vv1, b=bb1), '-b')\n",
    "    plt.plot(x_grid, logistic_sigmoid(x_grid, vv=vv2, b=bb2), '-r')\n",
    "    plt.axis([-5, 5, -0.5, 1.5])\n",
    "    plt.show()"
   ]
  },
  {
   "cell_type": "code",
   "execution_count": 3,
   "id": "62a59c5d-eaab-477b-b306-bc4913350b23",
   "metadata": {},
   "outputs": [
    {
     "data": {
      "application/vnd.jupyter.widget-view+json": {
       "model_id": "683b9efc4e4c4b669d10beca0ba599b3",
       "version_major": 2,
       "version_minor": 0
      },
      "text/plain": [
       "interactive(children=(FloatSlider(value=-1.0, description='vv1', max=10.0, min=-12.0, step=0.25), IntSlider(va…"
      ]
     },
     "metadata": {},
     "output_type": "display_data"
    }
   ],
   "source": [
    "interact(plot_logistic_sigmoid, \n",
    "         vv1=(-12, 10, .25), \n",
    "         bb1=(-10, 10), \n",
    "         vv2=(-10, 12), \n",
    "         bb2=(-10, 10));"
   ]
  },
  {
   "cell_type": "code",
   "execution_count": null,
   "id": "801dc353-5db1-4e62-b897-a30c1f0e9347",
   "metadata": {},
   "outputs": [],
   "source": []
  }
 ],
 "metadata": {
  "kernelspec": {
   "display_name": "pyclass",
   "language": "python",
   "name": "pyclass"
  },
  "language_info": {
   "codemirror_mode": {
    "name": "ipython",
    "version": 3
   },
   "file_extension": ".py",
   "mimetype": "text/x-python",
   "name": "python",
   "nbconvert_exporter": "python",
   "pygments_lexer": "ipython3",
   "version": "3.12.4"
  }
 },
 "nbformat": 4,
 "nbformat_minor": 5
}
