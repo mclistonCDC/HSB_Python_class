{
 "cells": [
  {
   "cell_type": "code",
   "execution_count": 20,
   "id": "61569b72-76cc-4f79-99b6-9862d4f662d0",
   "metadata": {},
   "outputs": [],
   "source": [
    "from ucimlrepo import fetch_ucirepo \n",
    "import pandas as pd\n",
    "import numpy as np\n",
    "from sklearn.ensemble import RandomForestClassifier\n",
    "from sklearn.model_selection import train_test_split\n",
    "from ipywidgets import interact, interactive, fixed, interact_manual, IntSlider, Dropdown, SelectMultiple, Output\n",
    "import plotly.graph_objects as go\n",
    "import matplotlib.pyplot as plt\n",
    "\n",
    "# fetch dataset \n",
    "aids_clinical_trials_group_study_175 = fetch_ucirepo(id=890) \n",
    "  \n",
    "# data (as pandas dataframes) \n",
    "X = aids_clinical_trials_group_study_175.data.features \n",
    "y = aids_clinical_trials_group_study_175.data.targets \n"
   ]
  },
  {
   "cell_type": "code",
   "execution_count": 8,
   "id": "2f9e7382-11b3-4454-a2ae-57dbcad3f17d",
   "metadata": {},
   "outputs": [],
   "source": [
    "X_train, X_test, y_train, y_test = train_test_split(X,y,test_size=0.3)"
   ]
  },
  {
   "cell_type": "code",
   "execution_count": 50,
   "id": "0d729e45-b115-4e15-b407-85725cdd8345",
   "metadata": {},
   "outputs": [],
   "source": [
    "\n",
    "def plot_feature_importances(feature_set, max_depth=10, n_estimators=100):\n",
    "    main_features = list(feature_set)\n",
    "    if main_features == []:\n",
    "        main_features = X.columns\n",
    "        \n",
    "    model = RandomForestClassifier(max_depth=max_depth, n_estimators=n_estimators, random_state=42)\n",
    "    model.fit(X_train[main_features], y_train.values.ravel())\n",
    "\n",
    "    importances = model.feature_importances_\n",
    "    indices = np.argsort(importances)[::-1]\n",
    "\n",
    "    fig = go.Figure(data=[go.Bar(x=main_features, y=importances)])\n",
    "    fig.update_layout(\n",
    "        title=f\"Feature Importances (max_depth={max_depth}, n_estimators={n_estimators})\",\n",
    "        xaxis_title='Feature',\n",
    "        yaxis_title='Importance'\n",
    "    )\n",
    "    fig.show()\n",
    "    "
   ]
  },
  {
   "cell_type": "code",
   "execution_count": 53,
   "id": "c3ef2712-14d0-49f7-83e7-7c49c9ec8fc7",
   "metadata": {},
   "outputs": [
    {
     "data": {
      "application/vnd.jupyter.widget-view+json": {
       "model_id": "d30b9ea7d3ff42d7b5fc50ac64dd24f5",
       "version_major": 2,
       "version_minor": 0
      },
      "text/plain": [
       "interactive(children=(SelectMultiple(description='feature_set', index=(0, 1, 2, 3, 4, 5, 6, 7, 8, 9, 10, 11, 1…"
      ]
     },
     "metadata": {},
     "output_type": "display_data"
    },
    {
     "data": {
      "text/plain": [
       "<function __main__.plot_feature_importances(feature_set, max_depth=10, n_estimators=100)>"
      ]
     },
     "execution_count": 53,
     "metadata": {},
     "output_type": "execute_result"
    }
   ],
   "source": [
    "max_depth_slider = IntSlider(min=1, max=30, step=1, value=10, description='Max Depth')\n",
    "n_estimators_slider = IntSlider(min=10, max=500, step=10, value=100, description='N Estimators')\n",
    "# feature_dropdown = Dropdown(options=X.columns, description='Feature:')\n",
    "\n",
    "feature_names = list(X.columns)\n",
    "interact(plot_feature_importances, \n",
    "         feature_set=SelectMultiple(options=feature_names, value=feature_names[:22], disabled=False),\n",
    "        max_depth=max_depth_slider,\n",
    "        n_estimator=n_estimators_slider)"
   ]
  }
 ],
 "metadata": {
  "kernelspec": {
   "display_name": "pyclass",
   "language": "python",
   "name": "pyclass"
  },
  "language_info": {
   "codemirror_mode": {
    "name": "ipython",
    "version": 3
   },
   "file_extension": ".py",
   "mimetype": "text/x-python",
   "name": "python",
   "nbconvert_exporter": "python",
   "pygments_lexer": "ipython3",
   "version": "3.12.4"
  }
 },
 "nbformat": 4,
 "nbformat_minor": 5
}
